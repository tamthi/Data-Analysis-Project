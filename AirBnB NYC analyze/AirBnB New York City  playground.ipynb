{
 "cells": [
  {
   "cell_type": "markdown",
   "metadata": {},
   "source": [
    "# AirBnB New York city playground"
   ]
  },
  {
   "cell_type": "markdown",
   "metadata": {},
   "source": [
    "### Import necessary library"
   ]
  },
  {
   "cell_type": "code",
   "execution_count": 11,
   "metadata": {},
   "outputs": [],
   "source": [
    "library(dplyr)\n",
    "library(ggplot2)\n",
    "library(lubridate)\n",
    "library(RColorBrewer)\n",
    "library(tidyr)"
   ]
  },
  {
   "cell_type": "markdown",
   "metadata": {},
   "source": [
    "### Prepare the dataframe"
   ]
  },
  {
   "cell_type": "code",
   "execution_count": 12,
   "metadata": {},
   "outputs": [],
   "source": [
    "df <- read.csv(\"datasample_airbnb.xlsx - AirBnB_NYC.csv\")"
   ]
  },
  {
   "cell_type": "markdown",
   "metadata": {},
   "source": [
    "### Check dataframe info"
   ]
  },
  {
   "cell_type": "code",
   "execution_count": 13,
   "metadata": {},
   "outputs": [
    {
     "name": "stdout",
     "output_type": "stream",
     "text": [
      "'data.frame':\t30478 obs. of  13 variables:\n",
      " $ Host.Id                   : int  5162530 33134899 39608626 500 500 1039 1783 2078 2339 2339 ...\n",
      " $ Host.Since                : Factor w/ 2241 levels \"\",\"1/1/2011\",..: 1 1 1 1587 1587 1775 1885 1904 1945 1945 ...\n",
      " $ Name                      : Factor w/ 29416 levels \"'Do or Dwell Deux'\",..: 520 27062 26773 12910 27896 5317 2678 8572 11642 16791 ...\n",
      " $ Neighbourhood             : Factor w/ 5 levels \"Bronx\",\"Brooklyn\",..: 2 2 3 3 3 2 3 2 3 3 ...\n",
      " $ Property.Type             : Factor w/ 20 levels \"\",\"Apartment\",..: 2 2 2 2 2 2 2 2 2 2 ...\n",
      " $ Review.Scores.Rating..bin.: int  NA NA NA NA 95 100 100 90 90 95 ...\n",
      " $ Room.Type                 : Factor w/ 3 levels \"Entire home/apt\",..: 1 2 2 1 2 1 1 2 1 1 ...\n",
      " $ Zipcode                   : int  11249 11206 10032 10024 10036 11222 10004 11201 10009 10009 ...\n",
      " $ Beds                      : int  1 1 1 3 3 1 1 1 2 2 ...\n",
      " $ Number.of.Records         : int  1 1 1 1 1 1 1 1 1 1 ...\n",
      " $ Number.Of.Reviews         : int  0 1 1 0 39 4 9 80 95 23 ...\n",
      " $ Price                     : Factor w/ 511 levels \"1,000\",\"1,050\",..: 77 302 225 131 396 81 195 494 215 235 ...\n",
      " $ Review.Scores.Rating      : int  NA NA NA NA 96 100 100 94 90 96 ...\n"
     ]
    }
   ],
   "source": [
    "str(df)"
   ]
  },
  {
   "cell_type": "markdown",
   "metadata": {},
   "source": [
    "**The dataset contains the following fields:**\n",
    "\n",
    "* Host.Id: the host ID\n",
    "* Host.Since: the starting date of the host\n",
    "* Name: the host name\n",
    "* Neighbourhood: the area to which the host belongs (e.g, Bronx, Brooklyn...)\n",
    "* Property.Type: the type of property (e.g, apartment...)\n",
    "* Room.Type: the type of room (e.g, entire home/apt...)\n",
    "* Beds: the number of bed in the room\n",
    "* Price: the price for rent\n",
    "* Number.Of.Reviews: the number of reviews by users\n",
    "* Reriew.Scores.Rating: the scores rating of review for each room "
   ]
  },
  {
   "cell_type": "markdown",
   "metadata": {},
   "source": [
    "** Check the type of some relevant variables:**\n",
    "* Neighbourhood(factor, 5 levels) \n",
    "* Property.Type(factor, 20 levels) \n",
    "* Room.Type(factor, 3 levels)\n",
    "* Price(factor) : should change to numeric"
   ]
  },
  {
   "cell_type": "markdown",
   "metadata": {},
   "source": [
    "Change Price type to numeric (Ex: 1,300 to 1300) "
   ]
  },
  {
   "cell_type": "code",
   "execution_count": 14,
   "metadata": {},
   "outputs": [
    {
     "data": {
      "text/plain": [
       "   Min. 1st Qu.  Median    Mean 3rd Qu.    Max. \n",
       "   10.0    80.0   125.0   163.6   195.0 10000.0 "
      ]
     },
     "metadata": {},
     "output_type": "display_data"
    }
   ],
   "source": [
    "df$Price <- as.numeric(gsub(\",\", \"\", df$Price))\n",
    "summary(df$Price)"
   ]
  },
  {
   "cell_type": "code",
   "execution_count": 15,
   "metadata": {
    "scrolled": true
   },
   "outputs": [
    {
     "data": {
      "text/html": [
       "<ol class=list-inline>\n",
       "\t<li>''</li>\n",
       "\t<li>'Apartment'</li>\n",
       "\t<li>'Bed &amp; Breakfast'</li>\n",
       "\t<li>'Boat'</li>\n",
       "\t<li>'Bungalow'</li>\n",
       "\t<li>'Cabin'</li>\n",
       "\t<li>'Camper/RV'</li>\n",
       "\t<li>'Castle'</li>\n",
       "\t<li>'Chalet'</li>\n",
       "\t<li>'Condominium'</li>\n",
       "\t<li>'Dorm'</li>\n",
       "\t<li>'House'</li>\n",
       "\t<li>'Hut'</li>\n",
       "\t<li>'Lighthouse'</li>\n",
       "\t<li>'Loft'</li>\n",
       "\t<li>'Other'</li>\n",
       "\t<li>'Tent'</li>\n",
       "\t<li>'Townhouse'</li>\n",
       "\t<li>'Treehouse'</li>\n",
       "\t<li>'Villa'</li>\n",
       "</ol>\n"
      ],
      "text/latex": [
       "\\begin{enumerate*}\n",
       "\\item ''\n",
       "\\item 'Apartment'\n",
       "\\item 'Bed \\& Breakfast'\n",
       "\\item 'Boat'\n",
       "\\item 'Bungalow'\n",
       "\\item 'Cabin'\n",
       "\\item 'Camper/RV'\n",
       "\\item 'Castle'\n",
       "\\item 'Chalet'\n",
       "\\item 'Condominium'\n",
       "\\item 'Dorm'\n",
       "\\item 'House'\n",
       "\\item 'Hut'\n",
       "\\item 'Lighthouse'\n",
       "\\item 'Loft'\n",
       "\\item 'Other'\n",
       "\\item 'Tent'\n",
       "\\item 'Townhouse'\n",
       "\\item 'Treehouse'\n",
       "\\item 'Villa'\n",
       "\\end{enumerate*}\n"
      ],
      "text/markdown": [
       "1. ''\n",
       "2. 'Apartment'\n",
       "3. 'Bed &amp; Breakfast'\n",
       "4. 'Boat'\n",
       "5. 'Bungalow'\n",
       "6. 'Cabin'\n",
       "7. 'Camper/RV'\n",
       "8. 'Castle'\n",
       "9. 'Chalet'\n",
       "10. 'Condominium'\n",
       "11. 'Dorm'\n",
       "12. 'House'\n",
       "13. 'Hut'\n",
       "14. 'Lighthouse'\n",
       "15. 'Loft'\n",
       "16. 'Other'\n",
       "17. 'Tent'\n",
       "18. 'Townhouse'\n",
       "19. 'Treehouse'\n",
       "20. 'Villa'\n",
       "\n",
       "\n"
      ],
      "text/plain": [
       " [1] \"\"                \"Apartment\"       \"Bed & Breakfast\" \"Boat\"           \n",
       " [5] \"Bungalow\"        \"Cabin\"           \"Camper/RV\"       \"Castle\"         \n",
       " [9] \"Chalet\"          \"Condominium\"     \"Dorm\"            \"House\"          \n",
       "[13] \"Hut\"             \"Lighthouse\"      \"Loft\"            \"Other\"          \n",
       "[17] \"Tent\"            \"Townhouse\"       \"Treehouse\"       \"Villa\"          "
      ]
     },
     "metadata": {},
     "output_type": "display_data"
    }
   ],
   "source": [
    "levels(df$Property.Type)"
   ]
  },
  {
   "cell_type": "code",
   "execution_count": 16,
   "metadata": {},
   "outputs": [
    {
     "data": {
      "text/plain": [
       "\n",
       "                      Apartment Bed & Breakfast            Boat        Bungalow \n",
       "              3           27102             180               8               4 \n",
       "          Cabin       Camper/RV          Castle          Chalet     Condominium \n",
       "              2               7               1               1              94 \n",
       "           Dorm           House             Hut      Lighthouse            Loft \n",
       "             31            2090               2               1             753 \n",
       "          Other            Tent       Townhouse       Treehouse           Villa \n",
       "             47               4             136               4               8 "
      ]
     },
     "metadata": {},
     "output_type": "display_data"
    }
   ],
   "source": [
    "table(df$Property.Type)"
   ]
  },
  {
   "cell_type": "code",
   "execution_count": 17,
   "metadata": {},
   "outputs": [
    {
     "data": {
      "text/html": [
       "<ol class=list-inline>\n",
       "\t<li>'Entire home/apt'</li>\n",
       "\t<li>'Private room'</li>\n",
       "\t<li>'Shared room'</li>\n",
       "</ol>\n"
      ],
      "text/latex": [
       "\\begin{enumerate*}\n",
       "\\item 'Entire home/apt'\n",
       "\\item 'Private room'\n",
       "\\item 'Shared room'\n",
       "\\end{enumerate*}\n"
      ],
      "text/markdown": [
       "1. 'Entire home/apt'\n",
       "2. 'Private room'\n",
       "3. 'Shared room'\n",
       "\n",
       "\n"
      ],
      "text/plain": [
       "[1] \"Entire home/apt\" \"Private room\"    \"Shared room\"    "
      ]
     },
     "metadata": {},
     "output_type": "display_data"
    }
   ],
   "source": [
    "levels(df$Room.Type)"
   ]
  },
  {
   "cell_type": "markdown",
   "metadata": {},
   "source": [
    "**Convert Host.Sinnce to year and month**"
   ]
  },
  {
   "cell_type": "code",
   "execution_count": 18,
   "metadata": {},
   "outputs": [],
   "source": [
    "df$Host.Since <- as.Date(df$Host.Since, format = \"%m/%d/%Y\")"
   ]
  },
  {
   "cell_type": "code",
   "execution_count": 19,
   "metadata": {},
   "outputs": [],
   "source": [
    "df$year <- year(df$Host.Since)"
   ]
  },
  {
   "cell_type": "code",
   "execution_count": 20,
   "metadata": {},
   "outputs": [],
   "source": [
    "df$month <- month(df$Host.Since)"
   ]
  },
  {
   "cell_type": "markdown",
   "metadata": {},
   "source": [
    "**Check the head of the dataframe**"
   ]
  },
  {
   "cell_type": "code",
   "execution_count": 21,
   "metadata": {},
   "outputs": [
    {
     "data": {
      "text/html": [
       "<table>\n",
       "<thead><tr><th scope=col>Host.Id</th><th scope=col>Host.Since</th><th scope=col>Name</th><th scope=col>Neighbourhood</th><th scope=col>Property.Type</th><th scope=col>Review.Scores.Rating..bin.</th><th scope=col>Room.Type</th><th scope=col>Zipcode</th><th scope=col>Beds</th><th scope=col>Number.of.Records</th><th scope=col>Number.Of.Reviews</th><th scope=col>Price</th><th scope=col>Review.Scores.Rating</th><th scope=col>year</th><th scope=col>month</th></tr></thead>\n",
       "<tbody>\n",
       "\t<tr><td> 5162530                          </td><td>NA                                </td><td>1 Bedroom in Prime Williamsburg   </td><td>Brooklyn                          </td><td>Apartment                         </td><td> NA                               </td><td>Entire home/apt                   </td><td>11249                             </td><td>1                                 </td><td>1                                 </td><td> 0                                </td><td>145                               </td><td> NA                               </td><td>  NA                              </td><td>NA                                </td></tr>\n",
       "\t<tr><td>33134899                          </td><td>NA                                </td><td>Sunny, Private room in Bushwick   </td><td>Brooklyn                          </td><td>Apartment                         </td><td> NA                               </td><td>Private room                      </td><td>11206                             </td><td>1                                 </td><td>1                                 </td><td> 1                                </td><td> 37                               </td><td> NA                               </td><td>  NA                              </td><td>NA                                </td></tr>\n",
       "\t<tr><td>39608626                          </td><td>NA                                </td><td>Sunny Room in Harlem              </td><td>Manhattan                         </td><td>Apartment                         </td><td> NA                               </td><td>Private room                      </td><td>10032                             </td><td>1                                 </td><td>1                                 </td><td> 1                                </td><td> 28                               </td><td> NA                               </td><td>  NA                              </td><td>NA                                </td></tr>\n",
       "\t<tr><td>     500                          </td><td>2008-06-26                        </td><td>Gorgeous 1 BR with Private Balcony</td><td>Manhattan                         </td><td>Apartment                         </td><td> NA                               </td><td>Entire home/apt                   </td><td>10024                             </td><td>3                                 </td><td>1                                 </td><td> 0                                </td><td>199                               </td><td> NA                               </td><td>2008                              </td><td> 6                                </td></tr>\n",
       "\t<tr><td>     500                          </td><td>2008-06-26                        </td><td>Trendy Times Square Loft          </td><td>Manhattan                         </td><td>Apartment                         </td><td> 95                               </td><td>Private room                      </td><td>10036                             </td><td>3                                 </td><td>1                                 </td><td>39                                </td><td>549                               </td><td> 96                               </td><td>2008                              </td><td> 6                                </td></tr>\n",
       "\t<tr><td>    1039                          </td><td>2008-07-25                        </td><td>Big Greenpoint 1BD w/ Skyline View</td><td>Brooklyn                          </td><td>Apartment                         </td><td>100                               </td><td>Entire home/apt                   </td><td>11222                             </td><td>1                                 </td><td>1                                 </td><td> 4                                </td><td>149                               </td><td>100                               </td><td>2008                              </td><td> 7                                </td></tr>\n",
       "</tbody>\n",
       "</table>\n"
      ],
      "text/latex": [
       "\\begin{tabular}{r|lllllllllllllll}\n",
       " Host.Id & Host.Since & Name & Neighbourhood & Property.Type & Review.Scores.Rating..bin. & Room.Type & Zipcode & Beds & Number.of.Records & Number.Of.Reviews & Price & Review.Scores.Rating & year & month\\\\\n",
       "\\hline\n",
       "\t  5162530                           & NA                                 & 1 Bedroom in Prime Williamsburg    & Brooklyn                           & Apartment                          &  NA                                & Entire home/apt                    & 11249                              & 1                                  & 1                                  &  0                                 & 145                                &  NA                                &   NA                               & NA                                \\\\\n",
       "\t 33134899                           & NA                                 & Sunny, Private room in Bushwick    & Brooklyn                           & Apartment                          &  NA                                & Private room                       & 11206                              & 1                                  & 1                                  &  1                                 &  37                                &  NA                                &   NA                               & NA                                \\\\\n",
       "\t 39608626                           & NA                                 & Sunny Room in Harlem               & Manhattan                          & Apartment                          &  NA                                & Private room                       & 10032                              & 1                                  & 1                                  &  1                                 &  28                                &  NA                                &   NA                               & NA                                \\\\\n",
       "\t      500                           & 2008-06-26                         & Gorgeous 1 BR with Private Balcony & Manhattan                          & Apartment                          &  NA                                & Entire home/apt                    & 10024                              & 3                                  & 1                                  &  0                                 & 199                                &  NA                                & 2008                               &  6                                \\\\\n",
       "\t      500                           & 2008-06-26                         & Trendy Times Square Loft           & Manhattan                          & Apartment                          &  95                                & Private room                       & 10036                              & 3                                  & 1                                  & 39                                 & 549                                &  96                                & 2008                               &  6                                \\\\\n",
       "\t     1039                           & 2008-07-25                         & Big Greenpoint 1BD w/ Skyline View & Brooklyn                           & Apartment                          & 100                                & Entire home/apt                    & 11222                              & 1                                  & 1                                  &  4                                 & 149                                & 100                                & 2008                               &  7                                \\\\\n",
       "\\end{tabular}\n"
      ],
      "text/markdown": [
       "\n",
       "Host.Id | Host.Since | Name | Neighbourhood | Property.Type | Review.Scores.Rating..bin. | Room.Type | Zipcode | Beds | Number.of.Records | Number.Of.Reviews | Price | Review.Scores.Rating | year | month | \n",
       "|---|---|---|---|---|---|\n",
       "|  5162530                           | NA                                 | 1 Bedroom in Prime Williamsburg    | Brooklyn                           | Apartment                          |  NA                                | Entire home/apt                    | 11249                              | 1                                  | 1                                  |  0                                 | 145                                |  NA                                |   NA                               | NA                                 | \n",
       "| 33134899                           | NA                                 | Sunny, Private room in Bushwick    | Brooklyn                           | Apartment                          |  NA                                | Private room                       | 11206                              | 1                                  | 1                                  |  1                                 |  37                                |  NA                                |   NA                               | NA                                 | \n",
       "| 39608626                           | NA                                 | Sunny Room in Harlem               | Manhattan                          | Apartment                          |  NA                                | Private room                       | 10032                              | 1                                  | 1                                  |  1                                 |  28                                |  NA                                |   NA                               | NA                                 | \n",
       "|      500                           | 2008-06-26                         | Gorgeous 1 BR with Private Balcony | Manhattan                          | Apartment                          |  NA                                | Entire home/apt                    | 10024                              | 3                                  | 1                                  |  0                                 | 199                                |  NA                                | 2008                               |  6                                 | \n",
       "|      500                           | 2008-06-26                         | Trendy Times Square Loft           | Manhattan                          | Apartment                          |  95                                | Private room                       | 10036                              | 3                                  | 1                                  | 39                                 | 549                                |  96                                | 2008                               |  6                                 | \n",
       "|     1039                           | 2008-07-25                         | Big Greenpoint 1BD w/ Skyline View | Brooklyn                           | Apartment                          | 100                                | Entire home/apt                    | 11222                              | 1                                  | 1                                  |  4                                 | 149                                | 100                                | 2008                               |  7                                 | \n",
       "\n",
       "\n"
      ],
      "text/plain": [
       "  Host.Id  Host.Since Name                               Neighbourhood\n",
       "1  5162530 <NA>       1 Bedroom in Prime Williamsburg    Brooklyn     \n",
       "2 33134899 <NA>       Sunny, Private room in Bushwick    Brooklyn     \n",
       "3 39608626 <NA>       Sunny Room in Harlem               Manhattan    \n",
       "4      500 2008-06-26 Gorgeous 1 BR with Private Balcony Manhattan    \n",
       "5      500 2008-06-26 Trendy Times Square Loft           Manhattan    \n",
       "6     1039 2008-07-25 Big Greenpoint 1BD w/ Skyline View Brooklyn     \n",
       "  Property.Type Review.Scores.Rating..bin. Room.Type       Zipcode Beds\n",
       "1 Apartment      NA                        Entire home/apt 11249   1   \n",
       "2 Apartment      NA                        Private room    11206   1   \n",
       "3 Apartment      NA                        Private room    10032   1   \n",
       "4 Apartment      NA                        Entire home/apt 10024   3   \n",
       "5 Apartment      95                        Private room    10036   3   \n",
       "6 Apartment     100                        Entire home/apt 11222   1   \n",
       "  Number.of.Records Number.Of.Reviews Price Review.Scores.Rating year month\n",
       "1 1                  0                145    NA                    NA NA   \n",
       "2 1                  1                 37    NA                    NA NA   \n",
       "3 1                  1                 28    NA                    NA NA   \n",
       "4 1                  0                199    NA                  2008  6   \n",
       "5 1                 39                549    96                  2008  6   \n",
       "6 1                  4                149   100                  2008  7   "
      ]
     },
     "metadata": {},
     "output_type": "display_data"
    }
   ],
   "source": [
    "head(df)"
   ]
  },
  {
   "cell_type": "markdown",
   "metadata": {},
   "source": [
    "**Save figure as file .png**"
   ]
  },
  {
   "cell_type": "code",
   "execution_count": 59,
   "metadata": {
    "scrolled": true
   },
   "outputs": [
    {
     "data": {
      "text/html": [
       "<strong>png:</strong> 2"
      ],
      "text/latex": [
       "\\textbf{png:} 2"
      ],
      "text/markdown": [
       "**png:** 2"
      ],
      "text/plain": [
       "png \n",
       "  2 "
      ]
     },
     "metadata": {},
     "output_type": "display_data"
    }
   ],
   "source": [
    "# Save the head of dataframe as png\n",
    "library(gridExtra)\n",
    "df_head <- head(df,4)\n",
    "png(\"head-info.png\",height=150, width=1450)\n",
    "p<-tableGrob(df_head)\n",
    "grid.arrange(p)\n",
    "dev.off()"
   ]
  },
  {
   "cell_type": "code",
   "execution_count": 35,
   "metadata": {},
   "outputs": [
    {
     "data": {
      "text/html": [
       "<strong>png:</strong> 2"
      ],
      "text/latex": [
       "\\textbf{png:} 2"
      ],
      "text/markdown": [
       "**png:** 2"
      ],
      "text/plain": [
       "png \n",
       "  2 "
      ]
     },
     "metadata": {},
     "output_type": "display_data"
    }
   ],
   "source": [
    "# Save the graph as figure\n",
    "tiff('neigh.tiff', units=\"in\", width=8, height=6, res=300)\n",
    "dev.off()"
   ]
  },
  {
   "cell_type": "markdown",
   "metadata": {},
   "source": [
    "## Getting insights from the dataframe"
   ]
  },
  {
   "cell_type": "markdown",
   "metadata": {},
   "source": [
    "**How were the properties distributed in 5 Neighbourhoods?**"
   ]
  },
  {
   "cell_type": "code",
   "execution_count": 22,
   "metadata": {},
   "outputs": [],
   "source": [
    "df_neighb <- df %>% group_by(Neighbourhood) %>% summarise(sum = n()) %>% mutate(percent = sum/sum(sum))"
   ]
  },
  {
   "cell_type": "code",
   "execution_count": 23,
   "metadata": {},
   "outputs": [
    {
     "data": {
      "text/html": [
       "<table>\n",
       "<thead><tr><th scope=col>Neighbourhood</th><th scope=col>sum</th><th scope=col>percent</th></tr></thead>\n",
       "<tbody>\n",
       "\t<tr><td>Bronx        </td><td>  345        </td><td>0.011319640  </td></tr>\n",
       "\t<tr><td>Brooklyn     </td><td>11675        </td><td>0.383063193  </td></tr>\n",
       "\t<tr><td>Manhattan    </td><td>16033        </td><td>0.526051578  </td></tr>\n",
       "\t<tr><td>Queens       </td><td> 2278        </td><td>0.074742437  </td></tr>\n",
       "\t<tr><td>Staten Island</td><td>  147        </td><td>0.004823151  </td></tr>\n",
       "</tbody>\n",
       "</table>\n"
      ],
      "text/latex": [
       "\\begin{tabular}{r|lll}\n",
       " Neighbourhood & sum & percent\\\\\n",
       "\\hline\n",
       "\t Bronx         &   345         & 0.011319640  \\\\\n",
       "\t Brooklyn      & 11675         & 0.383063193  \\\\\n",
       "\t Manhattan     & 16033         & 0.526051578  \\\\\n",
       "\t Queens        &  2278         & 0.074742437  \\\\\n",
       "\t Staten Island &   147         & 0.004823151  \\\\\n",
       "\\end{tabular}\n"
      ],
      "text/markdown": [
       "\n",
       "Neighbourhood | sum | percent | \n",
       "|---|---|---|---|---|\n",
       "| Bronx         |   345         | 0.011319640   | \n",
       "| Brooklyn      | 11675         | 0.383063193   | \n",
       "| Manhattan     | 16033         | 0.526051578   | \n",
       "| Queens        |  2278         | 0.074742437   | \n",
       "| Staten Island |   147         | 0.004823151   | \n",
       "\n",
       "\n"
      ],
      "text/plain": [
       "  Neighbourhood sum   percent    \n",
       "1 Bronx           345 0.011319640\n",
       "2 Brooklyn      11675 0.383063193\n",
       "3 Manhattan     16033 0.526051578\n",
       "4 Queens         2278 0.074742437\n",
       "5 Staten Island   147 0.004823151"
      ]
     },
     "metadata": {},
     "output_type": "display_data"
    }
   ],
   "source": [
    "df_neighb"
   ]
  },
  {
   "cell_type": "markdown",
   "metadata": {},
   "source": [
    "**How many percentage of each Property type in New York city?**"
   ]
  },
  {
   "cell_type": "code",
   "execution_count": 24,
   "metadata": {},
   "outputs": [],
   "source": [
    "remarkable_property <- c(\"Apartment\", \"Bed & Breakfast\", \"Condominium\", \"House\", \"Loft\", \"Townhouse\")"
   ]
  },
  {
   "cell_type": "code",
   "execution_count": 25,
   "metadata": {},
   "outputs": [],
   "source": [
    "df_proper <- df %>% group_by(Property.Type) %>% filter(Property.Type %in% remarkable_property) %>% summarise(count = n()) %>%\n",
    "                    mutate(percent = count/sum(count))"
   ]
  },
  {
   "cell_type": "code",
   "execution_count": 26,
   "metadata": {},
   "outputs": [
    {
     "data": {
      "text/html": [
       "<table>\n",
       "<thead><tr><th scope=col>Property.Type</th><th scope=col>count</th><th scope=col>percent</th></tr></thead>\n",
       "<tbody>\n",
       "\t<tr><td>Apartment      </td><td>27102          </td><td>0.892834788    </td></tr>\n",
       "\t<tr><td>Bed &amp; Breakfast                          </td><td><span style=white-space:pre-wrap>  180</span></td><td>0.005929830                                  </td></tr>\n",
       "\t<tr><td>Condominium    </td><td>   94          </td><td>0.003096689    </td></tr>\n",
       "\t<tr><td>House          </td><td> 2090          </td><td>0.068851919    </td></tr>\n",
       "\t<tr><td>Loft           </td><td>  753          </td><td>0.024806457    </td></tr>\n",
       "\t<tr><td>Townhouse      </td><td>  136          </td><td>0.004480316    </td></tr>\n",
       "</tbody>\n",
       "</table>\n"
      ],
      "text/latex": [
       "\\begin{tabular}{r|lll}\n",
       " Property.Type & count & percent\\\\\n",
       "\\hline\n",
       "\t Apartment       & 27102           & 0.892834788    \\\\\n",
       "\t Bed \\& Breakfast &   180             & 0.005929830      \\\\\n",
       "\t Condominium     &    94           & 0.003096689    \\\\\n",
       "\t House           &  2090           & 0.068851919    \\\\\n",
       "\t Loft            &   753           & 0.024806457    \\\\\n",
       "\t Townhouse       &   136           & 0.004480316    \\\\\n",
       "\\end{tabular}\n"
      ],
      "text/markdown": [
       "\n",
       "Property.Type | count | percent | \n",
       "|---|---|---|---|---|---|\n",
       "| Apartment       | 27102           | 0.892834788     | \n",
       "| Bed & Breakfast |   180           | 0.005929830     | \n",
       "| Condominium     |    94           | 0.003096689     | \n",
       "| House           |  2090           | 0.068851919     | \n",
       "| Loft            |   753           | 0.024806457     | \n",
       "| Townhouse       |   136           | 0.004480316     | \n",
       "\n",
       "\n"
      ],
      "text/plain": [
       "  Property.Type   count percent    \n",
       "1 Apartment       27102 0.892834788\n",
       "2 Bed & Breakfast   180 0.005929830\n",
       "3 Condominium        94 0.003096689\n",
       "4 House            2090 0.068851919\n",
       "5 Loft              753 0.024806457\n",
       "6 Townhouse         136 0.004480316"
      ]
     },
     "metadata": {},
     "output_type": "display_data"
    }
   ],
   "source": [
    "df_proper"
   ]
  },
  {
   "cell_type": "markdown",
   "metadata": {},
   "source": [
    "## Data Visualization"
   ]
  },
  {
   "cell_type": "code",
   "execution_count": 28,
   "metadata": {},
   "outputs": [],
   "source": [
    "# Set univeral plot size:\n",
    "options(repr.plot.width=5, repr.plot.height=4)"
   ]
  },
  {
   "cell_type": "markdown",
   "metadata": {},
   "source": [
    "**1. Plot the barchart which present the amount of properties in New york city**"
   ]
  },
  {
   "cell_type": "code",
   "execution_count": 29,
   "metadata": {},
   "outputs": [
    {
     "name": "stderr",
     "output_type": "stream",
     "text": [
      "Saving 6.67 x 6.67 in image\n"
     ]
    },
    {
     "data": {},
     "metadata": {},
     "output_type": "display_data"
    },
    {
     "data": {
      "image/png": "[encoded data removed]",
      "text/plain": [
       "plot without title"
      ]
     },
     "metadata": {},
     "output_type": "display_data"
    }
   ],
   "source": [
    "ggplot(df_neighb, aes(x = reorder(Neighbourhood, sum), y = sum, fill = reorder(Neighbourhood, sum))) + \n",
    "    geom_bar(stat = \"identity\") +\n",
    "    labs(x =  \"Neighbourhood\", y =\"Number of property\") +\n",
    "    scale_fill_brewer(palette = \"PuBu\") +  theme_bw() + \n",
    "    theme(legend.position = \"none\", axis.text=element_text(size=12), axis.title=element_text(size=14,face=\"bold\")) +\n",
    "    ggsave(\"plot1.png\")"
   ]
  },
  {
   "cell_type": "markdown",
   "metadata": {},
   "source": [
    "**Conclusion: There are 5 neighborhoods in the New York city: Staten Island, Bronx, Queens, Brooklyn, and Manhattan.\n",
    "Manhattan and Brooklyn had the most number properties for rent.**"
   ]
  },
  {
   "cell_type": "markdown",
   "metadata": {},
   "source": [
    "**2. The number of Property types for rent**"
   ]
  },
  {
   "cell_type": "code",
   "execution_count": 30,
   "metadata": {},
   "outputs": [
    {
     "name": "stderr",
     "output_type": "stream",
     "text": [
      "Saving 6.67 x 6.67 in image\n"
     ]
    },
    {
     "data": {},
     "metadata": {},
     "output_type": "display_data"
    },
    {
     "data": {
      "image/png": "[encoded data removed]",
      "text/plain": [
       "plot without title"
      ]
     },
     "metadata": {},
     "output_type": "display_data"
    }
   ],
   "source": [
    "# Plot the bar chart with horizon = TRUE, use geom_bar + coord_flip()\n",
    "options(repr.plot.width=6, repr.plot.height=4)    \n",
    "ggplot(df_proper, aes(x = reorder(Property.Type, count), y = count)) + \n",
    "    geom_bar(stat = \"identity\", fill = \"royalblue\") + coord_flip() + \n",
    "    theme(axis.text=element_text(size=18), axis.title=element_text(size=20,face=\"bold\")) + theme_bw() +\n",
    "    labs(x = \"Number of Property\", y = \"Property Type\") +\n",
    "    ggsave(\"plot2.png\")"
   ]
  },
  {
   "cell_type": "markdown",
   "metadata": {},
   "source": [
    "** Conclusion: There was a various of property types for rent, but apartment occupied the most percentage (89%).**"
   ]
  },
  {
   "cell_type": "markdown",
   "metadata": {},
   "source": [
    "**3. The proportion of Room types in 5 neighbourhoods**"
   ]
  },
  {
   "cell_type": "code",
   "execution_count": 31,
   "metadata": {},
   "outputs": [
    {
     "name": "stderr",
     "output_type": "stream",
     "text": [
      "Saving 6.67 x 6.67 in image\n"
     ]
    },
    {
     "data": {},
     "metadata": {},
     "output_type": "display_data"
    },
    {
     "data": {
      "image/png": "[encoded data removed]",
      "text/plain": [
       "plot without title"
      ]
     },
     "metadata": {},
     "output_type": "display_data"
    }
   ],
   "source": [
    "# This chart shows the room type of each area for rent: \n",
    "df %>% filter(Property.Type == \"Apartment\") %>%\n",
    "    ggplot(aes(x = Neighbourhood, fill = Room.Type)) + geom_bar(position = \"fill\") + \n",
    "    theme_bw() + scale_fill_brewer(palette = \"Blues\") +\n",
    "    ggsave(\"plot3.png\")"
   ]
  },
  {
   "cell_type": "code",
   "execution_count": 32,
   "metadata": {},
   "outputs": [
    {
     "name": "stderr",
     "output_type": "stream",
     "text": [
      "Saving 6.67 x 6.67 in image\n"
     ]
    },
    {
     "data": {},
     "metadata": {},
     "output_type": "display_data"
    },
    {
     "data": {
      "image/png": "[encoded data removed]",
      "text/plain": [
       "plot without title"
      ]
     },
     "metadata": {},
     "output_type": "display_data"
    }
   ],
   "source": [
    "options(repr.plot.width=7, repr.plot.height=5)\n",
    "df %>% filter(Property.Type == \"Apartment\") %>% \n",
    "    ggplot(aes(x = Neighbourhood, fill = Room.Type)) + geom_bar(position = \"stack\") + theme_bw() +\n",
    "    ylab(\"Room type count\") + scale_fill_brewer(palette = \"Blues\", name = \"Room Type\") +\n",
    "    theme(axis.text=element_text(size=12), axis.title=element_text(size=14,face=\"bold\")) +\n",
    "    ggsave(\"plot4.png\")"
   ]
  },
  {
   "cell_type": "markdown",
   "metadata": {},
   "source": [
    "**Conclusion: Manhattan had the most entire home/apt for rent.\n",
    "Shared rooms accounted for an insignificant percentage comparing to two other types.**"
   ]
  },
  {
   "cell_type": "markdown",
   "metadata": {},
   "source": [
    "**4. The relationship between Price and Review Scores Rating**"
   ]
  },
  {
   "cell_type": "code",
   "execution_count": 33,
   "metadata": {},
   "outputs": [
    {
     "name": "stderr",
     "output_type": "stream",
     "text": [
      "Saving 6.67 x 6.67 in image\n"
     ]
    },
    {
     "data": {},
     "metadata": {},
     "output_type": "display_data"
    },
    {
     "data": {
      "image/png": "[encoded data removed]",
      "text/plain": [
       "plot without title"
      ]
     },
     "metadata": {},
     "output_type": "display_data"
    }
   ],
   "source": [
    "# The line graph presents the trend of Scores rating following the Price for each type of room:\n",
    "# The blue line on the plot represents the linear function we've fitted and shows that there is a relationship between how much price of each room type and how many scores rating of reviews: \n",
    "# the color shape behind the line: is the confidence interval for this function. It outlines the area that should contain the line which represents the true function 95% of the time.\n",
    "\n",
    "df %>% filter(Property.Type == \"Apartment\"  & !is.na(Review.Scores.Rating)) %>% \n",
    "    ggplot(aes(x = Review.Scores.Rating, y = Price, fill = Room.Type)) + geom_smooth(method = \"lm\", colour = \"dodgerblue3\") +\n",
    "    theme(axis.text=element_text(size=12), axis.title=element_text(size=14,face=\"bold\")) + theme_bw() +\n",
    "    xlab(\"Review Scores Rating\") + scale_fill_brewer(palette = \"Set2\", name = \"Room Type\") +\n",
    "    ggsave(\"plot5.png\")"
   ]
  },
  {
   "cell_type": "markdown",
   "metadata": {},
   "source": [
    "**Conclusion: In general, the price of room types increased with the review score rating, which might mean the rooms with good review were able to place a higher price.**"
   ]
  },
  {
   "cell_type": "markdown",
   "metadata": {},
   "source": [
    "**5. The number of reviews vs price**"
   ]
  },
  {
   "cell_type": "code",
   "execution_count": 34,
   "metadata": {},
   "outputs": [
    {
     "name": "stderr",
     "output_type": "stream",
     "text": [
      "Saving 6.67 x 6.67 in image\n"
     ]
    },
    {
     "data": {},
     "metadata": {},
     "output_type": "display_data"
    },
    {
     "data": {
      "image/png": "[encoded data removed]",
      "text/plain": [
       "plot without title"
      ]
     },
     "metadata": {},
     "output_type": "display_data"
    }
   ],
   "source": [
    "options(repr.plot.width=6, repr.plot.height=4)\n",
    "ggplot(df, aes(x = Price, y = Number.Of.Reviews)) + geom_point(color=\"royalblue4\", alpha = 0.2, size =3) + \n",
    "    theme_bw() + theme(axis.title=element_text(size=16,face=\"bold\")) +\n",
    "    ylab(\"Number of Reviews\") +\n",
    "    ggsave(\"plot7.png\")"
   ]
  },
  {
   "cell_type": "markdown",
   "metadata": {},
   "source": [
    "**Conclusion: The low price rentals were more affordable thus the higher number in reviews.**"
   ]
  },
  {
   "cell_type": "markdown",
   "metadata": {},
   "source": [
    "**6. The average rental price in 5 areas**"
   ]
  },
  {
   "cell_type": "code",
   "execution_count": 35,
   "metadata": {},
   "outputs": [],
   "source": [
    "options(repr.plot.width=7, repr.plot.height=4)"
   ]
  },
  {
   "cell_type": "code",
   "execution_count": 36,
   "metadata": {},
   "outputs": [
    {
     "data": {},
     "metadata": {},
     "output_type": "display_data"
    },
    {
     "name": "stderr",
     "output_type": "stream",
     "text": [
      "Saving 6.67 x 6.67 in image\n"
     ]
    },
    {
     "data": {
      "image/png": "[encoded data removed]",
      "text/plain": [
       "plot without title"
      ]
     },
     "metadata": {},
     "output_type": "display_data"
    }
   ],
   "source": [
    "ggplot(df, aes(x = reorder(Neighbourhood, Price), y = Price, fill = Neighbourhood)) + \n",
    "    geom_boxplot() + scale_y_log10() + scale_fill_brewer(palette = \"Set3\") + xlab(\"Neighbourhood\") +\n",
    "    theme(legend.position = \"none\",axis.text=element_text(size=12), axis.title=element_text(size=14,face=\"bold\")) + theme_bw()\n",
    "    ggsave(\"plot8.png\")"
   ]
  },
  {
   "cell_type": "markdown",
   "metadata": {},
   "source": [
    "**Conclusion: Although Manhattan and Brooklyn accounted for 52% and 38% rentals in the New York city, the average rental prices of the two places were higher than others.\n",
    "The difference of rental cost between all areas was not significant. The price range of all neighborhoods was quite large.**"
   ]
  },
  {
   "cell_type": "markdown",
   "metadata": {},
   "source": [
    "**7. The change of property for monthly and annual rental**"
   ]
  },
  {
   "cell_type": "code",
   "execution_count": 37,
   "metadata": {},
   "outputs": [],
   "source": [
    "library(scales)\n",
    "options(repr.plot.width=5, repr.plot.height=4)"
   ]
  },
  {
   "cell_type": "code",
   "execution_count": 38,
   "metadata": {},
   "outputs": [
    {
     "name": "stderr",
     "output_type": "stream",
     "text": [
      "Saving 6.67 x 6.67 in image\n"
     ]
    },
    {
     "data": {},
     "metadata": {},
     "output_type": "display_data"
    },
    {
     "data": {
      "image/png": "[encoded data removed]",
      "text/plain": [
       "plot without title"
      ]
     },
     "metadata": {},
     "output_type": "display_data"
    }
   ],
   "source": [
    "df %>% filter(!is.na(year)) %>% group_by(year) %>% summarize(sum = n()) %>%\n",
    "    ggplot(aes(x = factor(year), y = sum)) + geom_bar(stat = \"identity\", fill = \"steelblue1\") + \n",
    "    theme(axis.text=element_text(size=12), axis.title=element_text(size=14,face=\"bold\")) + theme_bw() +\n",
    "    labs(x = \"Year\", y = \"\") + ggsave(\"plot9.png\")"
   ]
  },
  {
   "cell_type": "code",
   "execution_count": 39,
   "metadata": {},
   "outputs": [
    {
     "name": "stderr",
     "output_type": "stream",
     "text": [
      "Saving 6.67 x 6.67 in image\n"
     ]
    },
    {
     "data": {},
     "metadata": {},
     "output_type": "display_data"
    },
    {
     "data": {
      "image/png": "[encoded data removed]",
      "text/plain": [
       "plot without title"
      ]
     },
     "metadata": {},
     "output_type": "display_data"
    }
   ],
   "source": [
    "df %>% filter(!is.na(month)) %>% group_by(month) %>% summarize(sum = n()) %>%\n",
    "    ggplot(aes(x = factor(month), y = sum)) + geom_bar(stat = \"identity\", fill = \"steelblue1\") + \n",
    "    theme(axis.text=element_text(size=12), axis.title=element_text(size=16,face=\"bold\")) + theme_bw() +\n",
    "    labs(x = \"Month\") + ggsave(\"plot12.png\")"
   ]
  },
  {
   "cell_type": "markdown",
   "metadata": {},
   "source": [
    "**Conclusion: From 2008 to 2014, the property and the rental cost ascended moderately. However, there was a sudden drop in 2015. \n",
    "As more and more properties were for rent caused New York’s rental market became over–saturated leading to high supply and low demand. Therefore, a decline in number of rentals occurred in 2015.**"
   ]
  },
  {
   "cell_type": "markdown",
   "metadata": {},
   "source": [
    "**8. The average monthly and annual rental cost**"
   ]
  },
  {
   "cell_type": "code",
   "execution_count": 40,
   "metadata": {},
   "outputs": [
    {
     "name": "stderr",
     "output_type": "stream",
     "text": [
      "Saving 6.67 x 6.67 in image\n"
     ]
    },
    {
     "data": {},
     "metadata": {},
     "output_type": "display_data"
    },
    {
     "data": {
      "image/png": "[encoded data removed]",
      "text/plain": [
       "plot without title"
      ]
     },
     "metadata": {},
     "output_type": "display_data"
    }
   ],
   "source": [
    "options(repr.plot.width=5, repr.plot.height=4)\n",
    "df %>% group_by(year) %>% filter(year != \"NA\") %>% summarize(avg = mean(Price)) %>%\n",
    "    ggplot(aes(x = as.factor(year), y = avg)) + geom_bar(stat = \"identity\",  fill = \"steelblue\") + \n",
    "    labs(x = \"Year\", y = \"Price\") + theme_bw() + theme(axis.title=element_text(size=14,face=\"bold\")) +\n",
    "    ggsave(\"plot10.png\")"
   ]
  },
  {
   "cell_type": "code",
   "execution_count": 41,
   "metadata": {},
   "outputs": [
    {
     "data": {
      "text/plain": [
       "      year           avg       \n",
       " Min.   :2008   Min.   :145.5  \n",
       " 1st Qu.:2010   1st Qu.:161.1  \n",
       " Median :2012   Median :165.2  \n",
       " Mean   :2012   Mean   :163.5  \n",
       " 3rd Qu.:2013   3rd Qu.:168.6  \n",
       " Max.   :2015   Max.   :177.8  "
      ]
     },
     "metadata": {},
     "output_type": "display_data"
    }
   ],
   "source": [
    "summary(df %>% group_by(year) %>% filter(year != \"NA\") %>% summarize(avg = mean(Price)))"
   ]
  },
  {
   "cell_type": "code",
   "execution_count": 42,
   "metadata": {},
   "outputs": [
    {
     "name": "stderr",
     "output_type": "stream",
     "text": [
      "Saving 6.67 x 6.67 in image\n"
     ]
    },
    {
     "data": {},
     "metadata": {},
     "output_type": "display_data"
    },
    {
     "data": {
      "image/png": "[encoded data removed]",
      "text/plain": [
       "plot without title"
      ]
     },
     "metadata": {},
     "output_type": "display_data"
    }
   ],
   "source": [
    "df %>% group_by(month) %>% filter(month != \"NA\") %>% summarize(avg = mean(Price)) %>%\n",
    "    ggplot(aes(x = as.factor(month), y = avg)) + geom_bar(stat = \"identity\", fill = \"deepskyblue\", alpha = 0.9) + \n",
    "    theme(axis.title=element_text(size=30,face=\"bold\")) +\n",
    "    labs(x= \"Month\", y = \"Price\") + theme_bw() +\n",
    "    ggsave(\"plot11.png\")"
   ]
  },
  {
   "cell_type": "markdown",
   "metadata": {},
   "source": [
    "**Conclusion: The average rental price following by month and year didn’t change much**"
   ]
  }
 ],
 "metadata": {
  "kernelspec": {
   "display_name": "R",
   "language": "R",
   "name": "ir"
  },
  "language_info": {
   "codemirror_mode": "r",
   "file_extension": ".r",
   "mimetype": "text/x-r-source",
   "name": "R",
   "pygments_lexer": "r",
   "version": "3.4.3"
  }
 },
 "nbformat": 4,
 "nbformat_minor": 2
}
